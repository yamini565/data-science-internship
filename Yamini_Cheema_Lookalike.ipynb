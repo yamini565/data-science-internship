{
 "cells": [
  {
   "cell_type": "code",
   "execution_count": 3,
   "id": "6ae401f0-2397-4848-99dd-20aa9700b68f",
   "metadata": {},
   "outputs": [],
   "source": [
    "import numpy as np  \n",
    "from sklearn.metrics.pairwise import cosine_similarity  \n",
    "import pandas as pd\n",
    "\n"
   ]
  },
  {
   "cell_type": "code",
   "execution_count": 4,
   "id": "af35de9e-c224-4804-b807-c9c46c1d6e98",
   "metadata": {},
   "outputs": [],
   "source": [
    "customers = pd.read_csv('Customers.csv')  \n",
    "transactions = pd.read_csv('Transactions.csv')\n",
    "\n",
    "\n"
   ]
  },
  {
   "cell_type": "code",
   "execution_count": 5,
   "id": "4ff68870-a7d6-4d76-8158-bd69769e312c",
   "metadata": {},
   "outputs": [],
   "source": [
    "# Preparing the lookalike model  \n",
    "# First, create a Customer-Product matrix  \n",
    "customer_product = transactions.pivot_table(index='CustomerID', columns='ProductID', values='Quantity', fill_value=0)  \n",
    "\n",
    "# Calculate similarity matrix  \n",
    "similarity = cosine_similarity(customer_product)  \n",
    "similarity_df = pd.DataFrame(similarity, index=customer_product.index, columns=customer_product.index)  \n",
    "\n",
    "# Function to get top N lookalikes  \n",
    "def get_lookalikes(customer_id, n=3):  \n",
    "    similar_indices = similarity_df[customer_id].nlargest(n+1).index[1:]  # Exclude self-reference  \n",
    "    return similar_indices.tolist()  \n",
    "\n"
   ]
  },
  {
   "cell_type": "code",
   "execution_count": 6,
   "id": "77c620d8-56d7-40e3-8f9d-7bbda046259c",
   "metadata": {},
   "outputs": [],
   "source": [
    "# Create Lookalike.csv for first 20 customers  \n",
    "lookalike_data = {  \n",
    "    'CustomerID': [],  \n",
    "    'Lookalike1': [],  \n",
    "    'Lookalike2': [],  \n",
    "    'Lookalike3': []  \n",
    "}\n",
    "\n",
    "\n",
    "for customer in customers['CustomerID'].head(20):  # First 20 customers  \n",
    "    lookalikes = get_lookalikes(customer)  \n",
    "    lookalike_data['CustomerID'].append(customer)  \n",
    "    lookalike_data['Lookalike1'].append(lookalikes[0] if len(lookalikes) > 0 else None)  \n",
    "    lookalike_data['Lookalike2'].append(lookalikes[1] if len(lookalikes) > 1 else None)  \n",
    "    lookalike_data['Lookalike3'].append(lookalikes[2] if len(lookalikes) > 2 else None)  \n",
    "\n",
    "lookalike_df = pd.DataFrame(lookalike_data)  \n",
    "lookalike_df.to_csv('Lookalike.csv', index=False)"
   ]
  },
  {
   "cell_type": "code",
   "execution_count": null,
   "id": "7d3267bb-d324-4a61-94ba-89eb905d81ad",
   "metadata": {},
   "outputs": [],
   "source": []
  },
  {
   "cell_type": "code",
   "execution_count": null,
   "id": "fbe63af8-f0da-4dcf-8543-bcd1fd921897",
   "metadata": {},
   "outputs": [],
   "source": []
  },
  {
   "cell_type": "code",
   "execution_count": null,
   "id": "4329906d-110b-4a1e-b408-46661fe3f397",
   "metadata": {},
   "outputs": [],
   "source": []
  },
  {
   "cell_type": "code",
   "execution_count": null,
   "id": "8a0f574d-7b79-436f-a8bd-ce5229ec321f",
   "metadata": {},
   "outputs": [],
   "source": []
  },
  {
   "cell_type": "code",
   "execution_count": null,
   "id": "156b57f8-e069-48c7-85ef-0c9711f086ba",
   "metadata": {},
   "outputs": [],
   "source": []
  },
  {
   "cell_type": "code",
   "execution_count": null,
   "id": "2d002f13-7d98-4f84-93b6-66e35241284a",
   "metadata": {},
   "outputs": [],
   "source": []
  }
 ],
 "metadata": {
  "kernelspec": {
   "display_name": "Python 3 (ipykernel)",
   "language": "python",
   "name": "python3"
  },
  "language_info": {
   "codemirror_mode": {
    "name": "ipython",
    "version": 3
   },
   "file_extension": ".py",
   "mimetype": "text/x-python",
   "name": "python",
   "nbconvert_exporter": "python",
   "pygments_lexer": "ipython3",
   "version": "3.12.4"
  }
 },
 "nbformat": 4,
 "nbformat_minor": 5
}
